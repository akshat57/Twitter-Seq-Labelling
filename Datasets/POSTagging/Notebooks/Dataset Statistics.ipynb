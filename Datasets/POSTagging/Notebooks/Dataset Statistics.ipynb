{
 "cells": [
  {
   "cell_type": "code",
   "execution_count": 1,
   "id": "a7bf7f16",
   "metadata": {},
   "outputs": [],
   "source": [
    "from reading_datasets import *"
   ]
  },
  {
   "cell_type": "code",
   "execution_count": 2,
   "id": "bc63ab64",
   "metadata": {},
   "outputs": [],
   "source": [
    "gimpel_data = read_gimpel()\n",
    "ritter_data = read_ritter()\n",
    "tweebank_data = read_tweebank()\n",
    "connll_data = read_conll2003()\n",
    "\n",
    "gimpel_labels = get_all_labels(gimpel_data)\n",
    "ritter_labels = get_all_labels(ritter_data)\n",
    "tweebank_labels = get_all_labels(tweebank_data)\n",
    "connll_labels = get_all_labels(connll_data)"
   ]
  },
  {
   "cell_type": "code",
   "execution_count": 5,
   "id": "8f52f773",
   "metadata": {},
   "outputs": [],
   "source": [
    "def dataset_stats(data):\n",
    "    print('TWEETS:', len(data))\n",
    "\n",
    "    tokens = 0\n",
    "    for tweet, _ in data:\n",
    "        tokens += len(tweet)\n",
    "\n",
    "    print('TOKENS:', tokens)"
   ]
  },
  {
   "cell_type": "code",
   "execution_count": 17,
   "id": "b6a9e886",
   "metadata": {},
   "outputs": [
    {
     "name": "stdout",
     "output_type": "stream",
     "text": [
      "GIMPEL DATSET\n",
      "TWEETS: 1827\n",
      "TOKENS: 26594\n",
      "25\n",
      "\n",
      "RITTER DATSET\n",
      "TWEETS: 562\n",
      "TOKENS: 10857\n",
      "47\n",
      "\n",
      "TWEEEBANK DATSET\n",
      "TWEETS: 1639\n",
      "TOKENS: 24753\n",
      "17\n",
      "\n",
      "CONLL DATSET\n",
      "TWEETS: 14042\n",
      "TOKENS: 203621\n",
      "45\n",
      "\n"
     ]
    }
   ],
   "source": [
    "print('GIMPEL DATSET')\n",
    "dataset_stats(gimpel_data)\n",
    "print(len(gimpel_labels))\n",
    "print()\n",
    "\n",
    "print('RITTER DATSET')\n",
    "dataset_stats(ritter_data)\n",
    "print(len(ritter_labels))\n",
    "print()\n",
    "\n",
    "print('TWEEEBANK DATSET')\n",
    "dataset_stats(tweebank_data)\n",
    "print(len(tweebank_labels))\n",
    "print()\n",
    "\n",
    "print('CONLL DATSET')\n",
    "dataset_stats(connll_data)\n",
    "print(len(connll_labels))\n",
    "print()"
   ]
  },
  {
   "cell_type": "code",
   "execution_count": 20,
   "id": "ba04a4a8",
   "metadata": {},
   "outputs": [
    {
     "name": "stdout",
     "output_type": "stream",
     "text": [
      "['RT', '@USER991', ':', 'Dear', 'diary', ',', 'I', \"'ve\", 'been', 'rapping', 'in', '3', 'accents', 'and', 'no', 'longer', 'know', 'which', 'one', 'is', 'truly', 'mine', '.', 'I', 'am', 'a', 'sadting', '-', 'Drake', 'URL217', '…']\n",
      "['X', 'X', 'PUNCT', 'ADJ', 'NOUN', 'PUNCT', 'PRON', 'AUX', 'AUX', 'VERB', 'ADP', 'NUM', 'NOUN', 'CCONJ', 'ADV', 'ADV', 'VERB', 'DET', 'NUM', 'AUX', 'ADV', 'PRON', 'PUNCT', 'PRON', 'AUX', 'DET', 'NOUN', 'PUNCT', 'PROPN', 'X', 'PUNCT']\n"
     ]
    }
   ],
   "source": [
    "for tweet, labels in tweebank_data:\n",
    "    print(tweet)\n",
    "    print(labels)\n",
    "    break"
   ]
  },
  {
   "cell_type": "code",
   "execution_count": null,
   "id": "be0432bf",
   "metadata": {},
   "outputs": [],
   "source": []
  }
 ],
 "metadata": {
  "kernelspec": {
   "display_name": "Python 3 (ipykernel)",
   "language": "python",
   "name": "python3"
  },
  "language_info": {
   "codemirror_mode": {
    "name": "ipython",
    "version": 3
   },
   "file_extension": ".py",
   "mimetype": "text/x-python",
   "name": "python",
   "nbconvert_exporter": "python",
   "pygments_lexer": "ipython3",
   "version": "3.9.10"
  }
 },
 "nbformat": 4,
 "nbformat_minor": 5
}
